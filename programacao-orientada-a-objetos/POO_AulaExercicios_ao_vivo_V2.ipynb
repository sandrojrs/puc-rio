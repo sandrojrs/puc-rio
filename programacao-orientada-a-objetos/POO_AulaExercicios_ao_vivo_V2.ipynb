{
  "nbformat": 4,
  "nbformat_minor": 0,
  "metadata": {
    "colab": {
      "provenance": [],
      "toc_visible": true,
      "include_colab_link": true
    },
    "kernelspec": {
      "name": "python3",
      "display_name": "Python 3"
    },
    "language_info": {
      "name": "python"
    }
  },
  "cells": [
    {
      "cell_type": "markdown",
      "metadata": {
        "id": "view-in-github",
        "colab_type": "text"
      },
      "source": [
        "<a href=\"https://colab.research.google.com/github/sandrojrs/puc-rio/blob/main/programacao-orientada-a-objetos/POO_AulaExercicios_ao_vivo_V2.ipynb\" target=\"_parent\"><img src=\"https://colab.research.google.com/assets/colab-badge.svg\" alt=\"Open In Colab\"/></a>"
      ]
    },
    {
      "cell_type": "markdown",
      "source": [
        "# Programação Orientada a Objetos\n",
        "## Prof. Tatiana Escovedo\n",
        "## Prof. Assistente Antonio Pedro\n",
        "\n",
        "---\n",
        "\n",
        "## Aula Prática de Exercícios"
      ],
      "metadata": {
        "id": "sQaoCezowYOq"
      }
    },
    {
      "cell_type": "markdown",
      "source": [
        "## Prática 1)\n",
        "\n",
        "Vamos criar uma biblioteca de artigos científicos que armazene as publicações de autores e imprima a lista de artigos cadastrados em formato de citação bibliográfica, sendo que:\n",
        "- O **Autor** tem os atributos *nome_completo*, *nome_citacao*, *afiliacao*. \n",
        "- O **Artigo** tem *titulo*, *autor*, *ano_publicacao* (nesta primeira versão do programa, assuma que cada artigo só pode ter um autor)."
      ],
      "metadata": {
        "id": "aqFy2Y8gWO1q"
      }
    },
    {
      "cell_type": "code",
      "source": [
        "class Autor:\n",
        "    \n",
        "    def __init__(self, nome_completo, nome_citacao, afiliacao):\n",
        "        self.__nome_completo = nome_completo\n",
        "        self.__nome_citacao = nome_citacao\n",
        "        self.__afiliacao = afiliacao\n",
        "\n",
        "    def consultar_nome_completo(self):\n",
        "        return self.__nome_completo\n",
        "\n",
        "    def consultar_nome_citacao(self):\n",
        "        return self.__nome_citacao\n",
        "\n",
        "    def consultar_afiliacao(self):\n",
        "        return self.__afiliacao\n",
        "\n",
        "\n",
        "class Artigo:\n",
        "\n",
        "    def __init__(self, titulo, autor, ano_publicacao):\n",
        "        self.__titulo = titulo\n",
        "        self.__autor = autor\n",
        "        self.__ano_publicacao = ano_publicacao\n",
        "\n",
        "    # aqui poderíamos criar os métodos consultar_XXX\n",
        "\n",
        "    def imprimir_citacao(self):\n",
        "        # Exemplo de saída: ESCOVEDO, T., Virando um mestre supremo em Python, 2023\n",
        "        return(\"{}, {}, {}\".format(self.__autor.consultar_nome_citacao(), self.__titulo, self.__ano_publicacao))\n",
        "\n",
        "\n",
        "class BibliotecaArtigos:\n",
        "\n",
        "    def __init__(self):\n",
        "        self.__artigos = []\n",
        "\n",
        "    def publicar_artigo(self, artigo):\n",
        "        # adicionar o artigo recebido no parâmetro do método na minha lista de artigos\n",
        "        self.__artigos.append(artigo)\n",
        "\n",
        "    def imprimir_catalogo(self):\n",
        "\n",
        "        # verificando se a lista está vazia\n",
        "        if len(self.__artigos) == 0:\n",
        "            print(\"\\n=== Não há artigos cadastrados nesta biblioteca! === \")\n",
        "        else:\n",
        "            print(\"\\n=== Artigos cadastrados nesta biblioteca: === \")\n",
        "            # para cada artigo da lista de artigos da biblioteca\n",
        "            for artigo in self.__artigos:\n",
        "                # imprimir a citação bibliográfico\n",
        "                print(artigo.imprimir_citacao())"
      ],
      "metadata": {
        "id": "h8j_DQ_x2NvG"
      },
      "execution_count": null,
      "outputs": []
    },
    {
      "cell_type": "code",
      "source": [
        "# Instanciando o biblioteca\n",
        "biblioteca = BibliotecaArtigos()\n",
        "\n",
        "# Criando os autores\n",
        "autor_1 = Autor(\"Tatiana Escovedo\", \"ESCOVEDO, T.\", \"PUC-Rio\")\n",
        "# print(autor_1.consultar_nome_completo())\n",
        "autor_2 = Autor(\"José das Couves\", \"COUVES, J.\", \"UFRJ\")\n",
        "\n",
        "# Criando os artigos\n",
        "artigo_1 = Artigo(\"Virando um mestre supremo em Python\", autor_1, 2023)\n",
        "artigo_2 = Artigo(\"Tricot fácil\", autor_2, 2010)\n",
        "artigo_3 = Artigo(\"Astrologia Moderna\", autor_1, 2015)\n",
        "\n",
        "# print(artigo_1.imprimir_citacao())\n",
        "\n",
        "# Repare que a biblioteca ainda está vazia...\n",
        "biblioteca.imprimir_catalogo()\n",
        "\n",
        "# Publicando os artigos\n",
        "biblioteca.publicar_artigo(artigo_1)\n",
        "biblioteca.publicar_artigo(artigo_2)\n",
        "biblioteca.publicar_artigo(artigo_3)\n",
        "\n",
        "# Repare que agora a biblioteca tem 3 artigos\n",
        "biblioteca.imprimir_catalogo()"
      ],
      "metadata": {
        "colab": {
          "base_uri": "https://localhost:8080/"
        },
        "id": "eZ6GPBtv5PWz",
        "outputId": "3c2f45b1-5fe2-4a08-d522-e99270fde94c"
      },
      "execution_count": null,
      "outputs": [
        {
          "output_type": "stream",
          "name": "stdout",
          "text": [
            "\n",
            "=== Não há artigos cadastrados nesta biblioteca! === \n",
            "\n",
            "=== Artigos cadastrados nesta biblioteca: === \n",
            "ESCOVEDO, T., Virando um mestre supremo em Python, 2023\n",
            "COUVES, J., Tricot fácil, 2010\n",
            "ESCOVEDO, T., Astrologia Moderna, 2015\n"
          ]
        }
      ]
    },
    {
      "cell_type": "markdown",
      "source": [
        "## Prática 2)\n",
        "\n",
        "Altere seu programa da Prática 1 para permitir que cada artigo tenha mais de um autor. Dica: use uma lista."
      ],
      "metadata": {
        "id": "Gr_vYIKRIqNV"
      }
    },
    {
      "cell_type": "code",
      "source": [
        "# comece copiando e colando aqui o código da Prática 1!"
      ],
      "metadata": {
        "id": "ZeEyVR8lIq9N"
      },
      "execution_count": null,
      "outputs": []
    },
    {
      "cell_type": "markdown",
      "source": [
        "## Prática 3)\n",
        "\n",
        "Altere seu programa da Prática 2 tornando a classe **Artigo** abstrata, com o método *imprime_citacao* também abstrato. Crie na classe **Artigo** métodos públicos para permitir a consulta das variáveis de instância non-public nas subclasses.\n",
        "\n",
        "Crie duas subclasses de Artigo: **ArtigoConferencia** deve ter o atributo *local_evento* e **ArtigoPeriodico** o atributo *issn*. Implemente em cada uma das classes a sua versão específica do método *imprime_citacao*.\n",
        "\n",
        "Teste o programa criando artigos, adicionando-os à biblioteca e imprimindo a lista de artigos da biblioteca."
      ],
      "metadata": {
        "id": "_K85F0acthsw"
      }
    },
    {
      "cell_type": "markdown",
      "source": [
        "## Prática 4)\n",
        "\n",
        "Altere seu programa da Prática 3 para:\n",
        "- permitir saber qual é o artigo com o maior número de autores\n",
        "- dado um autor, saber quais artigos ele publicou"
      ],
      "metadata": {
        "id": "faFLDvMbtuEf"
      }
    }
  ]
}